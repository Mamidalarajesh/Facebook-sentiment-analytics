{
  "nbformat": 4,
  "nbformat_minor": 0,
  "metadata": {
    "colab": {
      "provenance": [],
      "include_colab_link": true
    },
    "kernelspec": {
      "name": "python3",
      "display_name": "Python 3"
    },
    "language_info": {
      "name": "python"
    }
  },
  "cells": [
    {
      "cell_type": "markdown",
      "metadata": {
        "id": "view-in-github",
        "colab_type": "text"
      },
      "source": [
        "<a href=\"https://colab.research.google.com/github/Mamidalarajesh/Facebook-sentiment-analytics/blob/main/FaceBook_Sentiment_Analysis.ipynb\" target=\"_parent\"><img src=\"https://colab.research.google.com/assets/colab-badge.svg\" alt=\"Open In Colab\"/></a>"
      ]
    },
    {
      "cell_type": "code",
      "execution_count": null,
      "metadata": {
        "colab": {
          "base_uri": "https://localhost:8080/"
        },
        "id": "TABtD6r33XmA",
        "outputId": "195d726e-67e8-4c56-ff89-0c414824d3bc"
      },
      "outputs": [
        {
          "output_type": "stream",
          "name": "stdout",
          "text": [
            "Collecting facebook-sdk\n",
            "  Downloading facebook_sdk-3.1.0-py2.py3-none-any.whl (7.5 kB)\n",
            "Requirement already satisfied: textblob in /usr/local/lib/python3.10/dist-packages (0.17.1)\n",
            "Requirement already satisfied: requests in /usr/local/lib/python3.10/dist-packages (from facebook-sdk) (2.31.0)\n",
            "Requirement already satisfied: nltk>=3.1 in /usr/local/lib/python3.10/dist-packages (from textblob) (3.8.1)\n",
            "Requirement already satisfied: click in /usr/local/lib/python3.10/dist-packages (from nltk>=3.1->textblob) (8.1.7)\n",
            "Requirement already satisfied: joblib in /usr/local/lib/python3.10/dist-packages (from nltk>=3.1->textblob) (1.4.0)\n",
            "Requirement already satisfied: regex>=2021.8.3 in /usr/local/lib/python3.10/dist-packages (from nltk>=3.1->textblob) (2023.12.25)\n",
            "Requirement already satisfied: tqdm in /usr/local/lib/python3.10/dist-packages (from nltk>=3.1->textblob) (4.66.2)\n",
            "Requirement already satisfied: charset-normalizer<4,>=2 in /usr/local/lib/python3.10/dist-packages (from requests->facebook-sdk) (3.3.2)\n",
            "Requirement already satisfied: idna<4,>=2.5 in /usr/local/lib/python3.10/dist-packages (from requests->facebook-sdk) (3.7)\n",
            "Requirement already satisfied: urllib3<3,>=1.21.1 in /usr/local/lib/python3.10/dist-packages (from requests->facebook-sdk) (2.0.7)\n",
            "Requirement already satisfied: certifi>=2017.4.17 in /usr/local/lib/python3.10/dist-packages (from requests->facebook-sdk) (2024.2.2)\n",
            "Installing collected packages: facebook-sdk\n",
            "Successfully installed facebook-sdk-3.1.0\n"
          ]
        }
      ],
      "source": [
        "pip install facebook-sdk textblob"
      ]
    },
    {
      "cell_type": "code",
      "source": [
        "import facebook\n",
        "from textblob import TextBlob\n",
        "import matplotlib.pyplot as plt"
      ],
      "metadata": {
        "id": "lWE4gYwM3dI-"
      },
      "execution_count": null,
      "outputs": []
    },
    {
      "cell_type": "code",
      "source": [
        "from sklearn.feature_extraction.text import CountVectorizer\n",
        "from keras.preprocessing.text import Tokenizer\n",
        "from keras.preprocessing.sequence import pad_sequences\n",
        "from keras.models import Sequential\n",
        "from keras.layers import Dense, Embedding, LSTM, SpatialDropout1D\n",
        "from sklearn.model_selection import train_test_split\n",
        "import pandas as pd\n",
        "import numpy as np\n",
        "import matplotlib.pyplot as plt"
      ],
      "metadata": {
        "id": "XtHWyTsR9GL5"
      },
      "execution_count": null,
      "outputs": []
    },
    {
      "cell_type": "code",
      "source": [
        "ACCESS_TOKEN = \"EAATfSyGlMkABO7T0O3Q6wNZAcxeEspdINZCiEfo3gtZAq2NtBGCk2F9pR4UnZAQD6DecyFD6uKvq44PBa0nvRMBDbtC1HivRZAx2TJeWjeMmOgdwWa0mqgCLKtHLzwm9oVZBZADeS1N7IRCVEMHIiL9q8RZA670v8AKwczDCZCtghnoZBP9WYDyHUKjKDPUHNFRd7LE9wNfSk1mrN9MqHZCVaV1A9APhOtpoZBIP5Q09nY6pJIZA8Adwo2LCsXTrl0FGPvwZDZD\""
      ],
      "metadata": {
        "id": "qXLL-zNF3nKv"
      },
      "execution_count": null,
      "outputs": []
    },
    {
      "cell_type": "code",
      "source": [
        "graph = facebook.GraphAPI(access_token=ACCESS_TOKEN, version=\"3.1\")"
      ],
      "metadata": {
        "id": "UZFYL-EV3uU_"
      },
      "execution_count": null,
      "outputs": []
    },
    {
      "cell_type": "code",
      "source": [
        "def fetch_comments(post_id):\n",
        "    \"\"\"\n",
        "    Fetch comments for a given Facebook post ID.\n",
        "    \"\"\"\n",
        "    comments = []\n",
        "    try:\n",
        "        data = graph.get_object(id=post_id, fields='comments')\n",
        "        comments_data = data['comments']['data']\n",
        "        for comment in comments_data:\n",
        "            comments.append(comment['message'])\n",
        "    except facebook.GraphAPIError as e:\n",
        "        print(\"Error:\", e)\n",
        "    return comments\n"
      ],
      "metadata": {
        "id": "DYhh0kwt3wP3"
      },
      "execution_count": null,
      "outputs": []
    },
    {
      "cell_type": "code",
      "source": [
        "fetch_comments(2653017738191720)"
      ],
      "metadata": {
        "colab": {
          "base_uri": "https://localhost:8080/"
        },
        "id": "rSVVY1T835h9",
        "outputId": "535ee047-eacb-4b0c-ba46-1b3908ef78ca"
      },
      "execution_count": null,
      "outputs": [
        {
          "output_type": "stream",
          "name": "stdout",
          "text": [
            "Error: Unsupported get request. Object with ID '2653017738191720' does not exist, cannot be loaded due to missing permissions, or does not support this operation. Please read the Graph API documentation at https://developers.facebook.com/docs/graph-api\n"
          ]
        },
        {
          "output_type": "execute_result",
          "data": {
            "text/plain": [
              "[]"
            ]
          },
          "metadata": {},
          "execution_count": 7
        }
      ]
    },
    {
      "cell_type": "code",
      "source": [
        "import pandas as pd\n",
        "import numpy as np"
      ],
      "metadata": {
        "id": "ovxGwDnd4Oy7"
      },
      "execution_count": null,
      "outputs": []
    },
    {
      "cell_type": "code",
      "source": [
        "fb = pd.read_csv('fb_sentiment.csv')"
      ],
      "metadata": {
        "id": "OHDjOD127_bJ"
      },
      "execution_count": null,
      "outputs": []
    },
    {
      "cell_type": "code",
      "source": [
        "fb.head()"
      ],
      "metadata": {
        "colab": {
          "base_uri": "https://localhost:8080/",
          "height": 204
        },
        "id": "vmpHF2aT8C1X",
        "outputId": "1dede724-e709-4dc6-990a-072d81c416b6"
      },
      "execution_count": null,
      "outputs": [
        {
          "output_type": "execute_result",
          "data": {
            "text/plain": [
              "   Unnamed: 0                                             FBPost Label\n",
              "0           0  Drug Runners and  a U.S. Senator have somethin...     O\n",
              "1           1  Heres a single, to add, to Kindle. Just read t...     O\n",
              "2           2  If you tire of Non-Fiction.. Check out http://...     O\n",
              "3           3    Ghost of Round Island is supposedly nonfiction.     O\n",
              "4           4  Why is Barnes and Nobles version of the Kindle...     N"
            ],
            "text/html": [
              "\n",
              "  <div id=\"df-62fe3faa-462a-4dd4-8158-cda3e3e786b5\" class=\"colab-df-container\">\n",
              "    <div>\n",
              "<style scoped>\n",
              "    .dataframe tbody tr th:only-of-type {\n",
              "        vertical-align: middle;\n",
              "    }\n",
              "\n",
              "    .dataframe tbody tr th {\n",
              "        vertical-align: top;\n",
              "    }\n",
              "\n",
              "    .dataframe thead th {\n",
              "        text-align: right;\n",
              "    }\n",
              "</style>\n",
              "<table border=\"1\" class=\"dataframe\">\n",
              "  <thead>\n",
              "    <tr style=\"text-align: right;\">\n",
              "      <th></th>\n",
              "      <th>Unnamed: 0</th>\n",
              "      <th>FBPost</th>\n",
              "      <th>Label</th>\n",
              "    </tr>\n",
              "  </thead>\n",
              "  <tbody>\n",
              "    <tr>\n",
              "      <th>0</th>\n",
              "      <td>0</td>\n",
              "      <td>Drug Runners and  a U.S. Senator have somethin...</td>\n",
              "      <td>O</td>\n",
              "    </tr>\n",
              "    <tr>\n",
              "      <th>1</th>\n",
              "      <td>1</td>\n",
              "      <td>Heres a single, to add, to Kindle. Just read t...</td>\n",
              "      <td>O</td>\n",
              "    </tr>\n",
              "    <tr>\n",
              "      <th>2</th>\n",
              "      <td>2</td>\n",
              "      <td>If you tire of Non-Fiction.. Check out http://...</td>\n",
              "      <td>O</td>\n",
              "    </tr>\n",
              "    <tr>\n",
              "      <th>3</th>\n",
              "      <td>3</td>\n",
              "      <td>Ghost of Round Island is supposedly nonfiction.</td>\n",
              "      <td>O</td>\n",
              "    </tr>\n",
              "    <tr>\n",
              "      <th>4</th>\n",
              "      <td>4</td>\n",
              "      <td>Why is Barnes and Nobles version of the Kindle...</td>\n",
              "      <td>N</td>\n",
              "    </tr>\n",
              "  </tbody>\n",
              "</table>\n",
              "</div>\n",
              "    <div class=\"colab-df-buttons\">\n",
              "\n",
              "  <div class=\"colab-df-container\">\n",
              "    <button class=\"colab-df-convert\" onclick=\"convertToInteractive('df-62fe3faa-462a-4dd4-8158-cda3e3e786b5')\"\n",
              "            title=\"Convert this dataframe to an interactive table.\"\n",
              "            style=\"display:none;\">\n",
              "\n",
              "  <svg xmlns=\"http://www.w3.org/2000/svg\" height=\"24px\" viewBox=\"0 -960 960 960\">\n",
              "    <path d=\"M120-120v-720h720v720H120Zm60-500h600v-160H180v160Zm220 220h160v-160H400v160Zm0 220h160v-160H400v160ZM180-400h160v-160H180v160Zm440 0h160v-160H620v160ZM180-180h160v-160H180v160Zm440 0h160v-160H620v160Z\"/>\n",
              "  </svg>\n",
              "    </button>\n",
              "\n",
              "  <style>\n",
              "    .colab-df-container {\n",
              "      display:flex;\n",
              "      gap: 12px;\n",
              "    }\n",
              "\n",
              "    .colab-df-convert {\n",
              "      background-color: #E8F0FE;\n",
              "      border: none;\n",
              "      border-radius: 50%;\n",
              "      cursor: pointer;\n",
              "      display: none;\n",
              "      fill: #1967D2;\n",
              "      height: 32px;\n",
              "      padding: 0 0 0 0;\n",
              "      width: 32px;\n",
              "    }\n",
              "\n",
              "    .colab-df-convert:hover {\n",
              "      background-color: #E2EBFA;\n",
              "      box-shadow: 0px 1px 2px rgba(60, 64, 67, 0.3), 0px 1px 3px 1px rgba(60, 64, 67, 0.15);\n",
              "      fill: #174EA6;\n",
              "    }\n",
              "\n",
              "    .colab-df-buttons div {\n",
              "      margin-bottom: 4px;\n",
              "    }\n",
              "\n",
              "    [theme=dark] .colab-df-convert {\n",
              "      background-color: #3B4455;\n",
              "      fill: #D2E3FC;\n",
              "    }\n",
              "\n",
              "    [theme=dark] .colab-df-convert:hover {\n",
              "      background-color: #434B5C;\n",
              "      box-shadow: 0px 1px 3px 1px rgba(0, 0, 0, 0.15);\n",
              "      filter: drop-shadow(0px 1px 2px rgba(0, 0, 0, 0.3));\n",
              "      fill: #FFFFFF;\n",
              "    }\n",
              "  </style>\n",
              "\n",
              "    <script>\n",
              "      const buttonEl =\n",
              "        document.querySelector('#df-62fe3faa-462a-4dd4-8158-cda3e3e786b5 button.colab-df-convert');\n",
              "      buttonEl.style.display =\n",
              "        google.colab.kernel.accessAllowed ? 'block' : 'none';\n",
              "\n",
              "      async function convertToInteractive(key) {\n",
              "        const element = document.querySelector('#df-62fe3faa-462a-4dd4-8158-cda3e3e786b5');\n",
              "        const dataTable =\n",
              "          await google.colab.kernel.invokeFunction('convertToInteractive',\n",
              "                                                    [key], {});\n",
              "        if (!dataTable) return;\n",
              "\n",
              "        const docLinkHtml = 'Like what you see? Visit the ' +\n",
              "          '<a target=\"_blank\" href=https://colab.research.google.com/notebooks/data_table.ipynb>data table notebook</a>'\n",
              "          + ' to learn more about interactive tables.';\n",
              "        element.innerHTML = '';\n",
              "        dataTable['output_type'] = 'display_data';\n",
              "        await google.colab.output.renderOutput(dataTable, element);\n",
              "        const docLink = document.createElement('div');\n",
              "        docLink.innerHTML = docLinkHtml;\n",
              "        element.appendChild(docLink);\n",
              "      }\n",
              "    </script>\n",
              "  </div>\n",
              "\n",
              "\n",
              "<div id=\"df-29924f77-3dce-47d7-9b9e-c21798133bd3\">\n",
              "  <button class=\"colab-df-quickchart\" onclick=\"quickchart('df-29924f77-3dce-47d7-9b9e-c21798133bd3')\"\n",
              "            title=\"Suggest charts\"\n",
              "            style=\"display:none;\">\n",
              "\n",
              "<svg xmlns=\"http://www.w3.org/2000/svg\" height=\"24px\"viewBox=\"0 0 24 24\"\n",
              "     width=\"24px\">\n",
              "    <g>\n",
              "        <path d=\"M19 3H5c-1.1 0-2 .9-2 2v14c0 1.1.9 2 2 2h14c1.1 0 2-.9 2-2V5c0-1.1-.9-2-2-2zM9 17H7v-7h2v7zm4 0h-2V7h2v10zm4 0h-2v-4h2v4z\"/>\n",
              "    </g>\n",
              "</svg>\n",
              "  </button>\n",
              "\n",
              "<style>\n",
              "  .colab-df-quickchart {\n",
              "      --bg-color: #E8F0FE;\n",
              "      --fill-color: #1967D2;\n",
              "      --hover-bg-color: #E2EBFA;\n",
              "      --hover-fill-color: #174EA6;\n",
              "      --disabled-fill-color: #AAA;\n",
              "      --disabled-bg-color: #DDD;\n",
              "  }\n",
              "\n",
              "  [theme=dark] .colab-df-quickchart {\n",
              "      --bg-color: #3B4455;\n",
              "      --fill-color: #D2E3FC;\n",
              "      --hover-bg-color: #434B5C;\n",
              "      --hover-fill-color: #FFFFFF;\n",
              "      --disabled-bg-color: #3B4455;\n",
              "      --disabled-fill-color: #666;\n",
              "  }\n",
              "\n",
              "  .colab-df-quickchart {\n",
              "    background-color: var(--bg-color);\n",
              "    border: none;\n",
              "    border-radius: 50%;\n",
              "    cursor: pointer;\n",
              "    display: none;\n",
              "    fill: var(--fill-color);\n",
              "    height: 32px;\n",
              "    padding: 0;\n",
              "    width: 32px;\n",
              "  }\n",
              "\n",
              "  .colab-df-quickchart:hover {\n",
              "    background-color: var(--hover-bg-color);\n",
              "    box-shadow: 0 1px 2px rgba(60, 64, 67, 0.3), 0 1px 3px 1px rgba(60, 64, 67, 0.15);\n",
              "    fill: var(--button-hover-fill-color);\n",
              "  }\n",
              "\n",
              "  .colab-df-quickchart-complete:disabled,\n",
              "  .colab-df-quickchart-complete:disabled:hover {\n",
              "    background-color: var(--disabled-bg-color);\n",
              "    fill: var(--disabled-fill-color);\n",
              "    box-shadow: none;\n",
              "  }\n",
              "\n",
              "  .colab-df-spinner {\n",
              "    border: 2px solid var(--fill-color);\n",
              "    border-color: transparent;\n",
              "    border-bottom-color: var(--fill-color);\n",
              "    animation:\n",
              "      spin 1s steps(1) infinite;\n",
              "  }\n",
              "\n",
              "  @keyframes spin {\n",
              "    0% {\n",
              "      border-color: transparent;\n",
              "      border-bottom-color: var(--fill-color);\n",
              "      border-left-color: var(--fill-color);\n",
              "    }\n",
              "    20% {\n",
              "      border-color: transparent;\n",
              "      border-left-color: var(--fill-color);\n",
              "      border-top-color: var(--fill-color);\n",
              "    }\n",
              "    30% {\n",
              "      border-color: transparent;\n",
              "      border-left-color: var(--fill-color);\n",
              "      border-top-color: var(--fill-color);\n",
              "      border-right-color: var(--fill-color);\n",
              "    }\n",
              "    40% {\n",
              "      border-color: transparent;\n",
              "      border-right-color: var(--fill-color);\n",
              "      border-top-color: var(--fill-color);\n",
              "    }\n",
              "    60% {\n",
              "      border-color: transparent;\n",
              "      border-right-color: var(--fill-color);\n",
              "    }\n",
              "    80% {\n",
              "      border-color: transparent;\n",
              "      border-right-color: var(--fill-color);\n",
              "      border-bottom-color: var(--fill-color);\n",
              "    }\n",
              "    90% {\n",
              "      border-color: transparent;\n",
              "      border-bottom-color: var(--fill-color);\n",
              "    }\n",
              "  }\n",
              "</style>\n",
              "\n",
              "  <script>\n",
              "    async function quickchart(key) {\n",
              "      const quickchartButtonEl =\n",
              "        document.querySelector('#' + key + ' button');\n",
              "      quickchartButtonEl.disabled = true;  // To prevent multiple clicks.\n",
              "      quickchartButtonEl.classList.add('colab-df-spinner');\n",
              "      try {\n",
              "        const charts = await google.colab.kernel.invokeFunction(\n",
              "            'suggestCharts', [key], {});\n",
              "      } catch (error) {\n",
              "        console.error('Error during call to suggestCharts:', error);\n",
              "      }\n",
              "      quickchartButtonEl.classList.remove('colab-df-spinner');\n",
              "      quickchartButtonEl.classList.add('colab-df-quickchart-complete');\n",
              "    }\n",
              "    (() => {\n",
              "      let quickchartButtonEl =\n",
              "        document.querySelector('#df-29924f77-3dce-47d7-9b9e-c21798133bd3 button');\n",
              "      quickchartButtonEl.style.display =\n",
              "        google.colab.kernel.accessAllowed ? 'block' : 'none';\n",
              "    })();\n",
              "  </script>\n",
              "</div>\n",
              "\n",
              "    </div>\n",
              "  </div>\n"
            ],
            "application/vnd.google.colaboratory.intrinsic+json": {
              "type": "dataframe",
              "variable_name": "fb",
              "summary": "{\n  \"name\": \"fb\",\n  \"rows\": 1000,\n  \"fields\": [\n    {\n      \"column\": \"Unnamed: 0\",\n      \"properties\": {\n        \"dtype\": \"number\",\n        \"std\": 288,\n        \"min\": 0,\n        \"max\": 999,\n        \"num_unique_values\": 1000,\n        \"samples\": [\n          521,\n          737,\n          740\n        ],\n        \"semantic_type\": \"\",\n        \"description\": \"\"\n      }\n    },\n    {\n      \"column\": \"FBPost\",\n      \"properties\": {\n        \"dtype\": \"string\",\n        \"num_unique_values\": 979,\n        \"samples\": [\n          \"Love my kindle! Big entertainment in a little package!!! Thanks!<3\",\n          \"I love my kindle too\",\n          \"Im gonna gag. \"\n        ],\n        \"semantic_type\": \"\",\n        \"description\": \"\"\n      }\n    },\n    {\n      \"column\": \"Label\",\n      \"properties\": {\n        \"dtype\": \"category\",\n        \"num_unique_values\": 3,\n        \"samples\": [\n          \"O\",\n          \"N\",\n          \"P\"\n        ],\n        \"semantic_type\": \"\",\n        \"description\": \"\"\n      }\n    }\n  ]\n}"
            }
          },
          "metadata": {},
          "execution_count": 13
        }
      ]
    },
    {
      "cell_type": "code",
      "source": [
        "print(fb.info())"
      ],
      "metadata": {
        "colab": {
          "base_uri": "https://localhost:8080/"
        },
        "id": "46COagKv8D6G",
        "outputId": "039c8168-17da-48cc-905f-f697721f2ea8"
      },
      "execution_count": null,
      "outputs": [
        {
          "output_type": "stream",
          "name": "stdout",
          "text": [
            "<class 'pandas.core.frame.DataFrame'>\n",
            "RangeIndex: 1000 entries, 0 to 999\n",
            "Data columns (total 3 columns):\n",
            " #   Column      Non-Null Count  Dtype \n",
            "---  ------      --------------  ----- \n",
            " 0   Unnamed: 0  1000 non-null   int64 \n",
            " 1   FBPost      1000 non-null   object\n",
            " 2   Label       1000 non-null   object\n",
            "dtypes: int64(1), object(2)\n",
            "memory usage: 23.6+ KB\n",
            "None\n"
          ]
        }
      ]
    },
    {
      "cell_type": "code",
      "source": [
        "fb.shape"
      ],
      "metadata": {
        "colab": {
          "base_uri": "https://localhost:8080/"
        },
        "id": "5eaD32C98jYA",
        "outputId": "c134f0d2-0b87-41fa-8bac-316379af5e51"
      },
      "execution_count": null,
      "outputs": [
        {
          "output_type": "execute_result",
          "data": {
            "text/plain": [
              "(1000, 3)"
            ]
          },
          "metadata": {},
          "execution_count": 19
        }
      ]
    },
    {
      "cell_type": "code",
      "source": [
        "fb.notnull().sum()"
      ],
      "metadata": {
        "colab": {
          "base_uri": "https://localhost:8080/"
        },
        "id": "sM9U4ndA8mFD",
        "outputId": "4e109452-f548-4e79-aed5-4daa5e784b52"
      },
      "execution_count": null,
      "outputs": [
        {
          "output_type": "execute_result",
          "data": {
            "text/plain": [
              "Unnamed: 0    1000\n",
              "FBPost        1000\n",
              "Label         1000\n",
              "dtype: int64"
            ]
          },
          "metadata": {},
          "execution_count": 21
        }
      ]
    },
    {
      "cell_type": "code",
      "source": [
        "fb.describe()"
      ],
      "metadata": {
        "colab": {
          "base_uri": "https://localhost:8080/",
          "height": 297
        },
        "id": "tUn41jsZ8rWt",
        "outputId": "6d2fc407-f42c-424f-fa19-703314b0bbd7"
      },
      "execution_count": null,
      "outputs": [
        {
          "output_type": "execute_result",
          "data": {
            "text/plain": [
              "        Unnamed: 0\n",
              "count  1000.000000\n",
              "mean    499.500000\n",
              "std     288.819436\n",
              "min       0.000000\n",
              "25%     249.750000\n",
              "50%     499.500000\n",
              "75%     749.250000\n",
              "max     999.000000"
            ],
            "text/html": [
              "\n",
              "  <div id=\"df-1001eade-67bc-414a-a5fc-37f8fc93d010\" class=\"colab-df-container\">\n",
              "    <div>\n",
              "<style scoped>\n",
              "    .dataframe tbody tr th:only-of-type {\n",
              "        vertical-align: middle;\n",
              "    }\n",
              "\n",
              "    .dataframe tbody tr th {\n",
              "        vertical-align: top;\n",
              "    }\n",
              "\n",
              "    .dataframe thead th {\n",
              "        text-align: right;\n",
              "    }\n",
              "</style>\n",
              "<table border=\"1\" class=\"dataframe\">\n",
              "  <thead>\n",
              "    <tr style=\"text-align: right;\">\n",
              "      <th></th>\n",
              "      <th>Unnamed: 0</th>\n",
              "    </tr>\n",
              "  </thead>\n",
              "  <tbody>\n",
              "    <tr>\n",
              "      <th>count</th>\n",
              "      <td>1000.000000</td>\n",
              "    </tr>\n",
              "    <tr>\n",
              "      <th>mean</th>\n",
              "      <td>499.500000</td>\n",
              "    </tr>\n",
              "    <tr>\n",
              "      <th>std</th>\n",
              "      <td>288.819436</td>\n",
              "    </tr>\n",
              "    <tr>\n",
              "      <th>min</th>\n",
              "      <td>0.000000</td>\n",
              "    </tr>\n",
              "    <tr>\n",
              "      <th>25%</th>\n",
              "      <td>249.750000</td>\n",
              "    </tr>\n",
              "    <tr>\n",
              "      <th>50%</th>\n",
              "      <td>499.500000</td>\n",
              "    </tr>\n",
              "    <tr>\n",
              "      <th>75%</th>\n",
              "      <td>749.250000</td>\n",
              "    </tr>\n",
              "    <tr>\n",
              "      <th>max</th>\n",
              "      <td>999.000000</td>\n",
              "    </tr>\n",
              "  </tbody>\n",
              "</table>\n",
              "</div>\n",
              "    <div class=\"colab-df-buttons\">\n",
              "\n",
              "  <div class=\"colab-df-container\">\n",
              "    <button class=\"colab-df-convert\" onclick=\"convertToInteractive('df-1001eade-67bc-414a-a5fc-37f8fc93d010')\"\n",
              "            title=\"Convert this dataframe to an interactive table.\"\n",
              "            style=\"display:none;\">\n",
              "\n",
              "  <svg xmlns=\"http://www.w3.org/2000/svg\" height=\"24px\" viewBox=\"0 -960 960 960\">\n",
              "    <path d=\"M120-120v-720h720v720H120Zm60-500h600v-160H180v160Zm220 220h160v-160H400v160Zm0 220h160v-160H400v160ZM180-400h160v-160H180v160Zm440 0h160v-160H620v160ZM180-180h160v-160H180v160Zm440 0h160v-160H620v160Z\"/>\n",
              "  </svg>\n",
              "    </button>\n",
              "\n",
              "  <style>\n",
              "    .colab-df-container {\n",
              "      display:flex;\n",
              "      gap: 12px;\n",
              "    }\n",
              "\n",
              "    .colab-df-convert {\n",
              "      background-color: #E8F0FE;\n",
              "      border: none;\n",
              "      border-radius: 50%;\n",
              "      cursor: pointer;\n",
              "      display: none;\n",
              "      fill: #1967D2;\n",
              "      height: 32px;\n",
              "      padding: 0 0 0 0;\n",
              "      width: 32px;\n",
              "    }\n",
              "\n",
              "    .colab-df-convert:hover {\n",
              "      background-color: #E2EBFA;\n",
              "      box-shadow: 0px 1px 2px rgba(60, 64, 67, 0.3), 0px 1px 3px 1px rgba(60, 64, 67, 0.15);\n",
              "      fill: #174EA6;\n",
              "    }\n",
              "\n",
              "    .colab-df-buttons div {\n",
              "      margin-bottom: 4px;\n",
              "    }\n",
              "\n",
              "    [theme=dark] .colab-df-convert {\n",
              "      background-color: #3B4455;\n",
              "      fill: #D2E3FC;\n",
              "    }\n",
              "\n",
              "    [theme=dark] .colab-df-convert:hover {\n",
              "      background-color: #434B5C;\n",
              "      box-shadow: 0px 1px 3px 1px rgba(0, 0, 0, 0.15);\n",
              "      filter: drop-shadow(0px 1px 2px rgba(0, 0, 0, 0.3));\n",
              "      fill: #FFFFFF;\n",
              "    }\n",
              "  </style>\n",
              "\n",
              "    <script>\n",
              "      const buttonEl =\n",
              "        document.querySelector('#df-1001eade-67bc-414a-a5fc-37f8fc93d010 button.colab-df-convert');\n",
              "      buttonEl.style.display =\n",
              "        google.colab.kernel.accessAllowed ? 'block' : 'none';\n",
              "\n",
              "      async function convertToInteractive(key) {\n",
              "        const element = document.querySelector('#df-1001eade-67bc-414a-a5fc-37f8fc93d010');\n",
              "        const dataTable =\n",
              "          await google.colab.kernel.invokeFunction('convertToInteractive',\n",
              "                                                    [key], {});\n",
              "        if (!dataTable) return;\n",
              "\n",
              "        const docLinkHtml = 'Like what you see? Visit the ' +\n",
              "          '<a target=\"_blank\" href=https://colab.research.google.com/notebooks/data_table.ipynb>data table notebook</a>'\n",
              "          + ' to learn more about interactive tables.';\n",
              "        element.innerHTML = '';\n",
              "        dataTable['output_type'] = 'display_data';\n",
              "        await google.colab.output.renderOutput(dataTable, element);\n",
              "        const docLink = document.createElement('div');\n",
              "        docLink.innerHTML = docLinkHtml;\n",
              "        element.appendChild(docLink);\n",
              "      }\n",
              "    </script>\n",
              "  </div>\n",
              "\n",
              "\n",
              "<div id=\"df-d1a9c36f-379c-4ac7-bf48-88089d791f70\">\n",
              "  <button class=\"colab-df-quickchart\" onclick=\"quickchart('df-d1a9c36f-379c-4ac7-bf48-88089d791f70')\"\n",
              "            title=\"Suggest charts\"\n",
              "            style=\"display:none;\">\n",
              "\n",
              "<svg xmlns=\"http://www.w3.org/2000/svg\" height=\"24px\"viewBox=\"0 0 24 24\"\n",
              "     width=\"24px\">\n",
              "    <g>\n",
              "        <path d=\"M19 3H5c-1.1 0-2 .9-2 2v14c0 1.1.9 2 2 2h14c1.1 0 2-.9 2-2V5c0-1.1-.9-2-2-2zM9 17H7v-7h2v7zm4 0h-2V7h2v10zm4 0h-2v-4h2v4z\"/>\n",
              "    </g>\n",
              "</svg>\n",
              "  </button>\n",
              "\n",
              "<style>\n",
              "  .colab-df-quickchart {\n",
              "      --bg-color: #E8F0FE;\n",
              "      --fill-color: #1967D2;\n",
              "      --hover-bg-color: #E2EBFA;\n",
              "      --hover-fill-color: #174EA6;\n",
              "      --disabled-fill-color: #AAA;\n",
              "      --disabled-bg-color: #DDD;\n",
              "  }\n",
              "\n",
              "  [theme=dark] .colab-df-quickchart {\n",
              "      --bg-color: #3B4455;\n",
              "      --fill-color: #D2E3FC;\n",
              "      --hover-bg-color: #434B5C;\n",
              "      --hover-fill-color: #FFFFFF;\n",
              "      --disabled-bg-color: #3B4455;\n",
              "      --disabled-fill-color: #666;\n",
              "  }\n",
              "\n",
              "  .colab-df-quickchart {\n",
              "    background-color: var(--bg-color);\n",
              "    border: none;\n",
              "    border-radius: 50%;\n",
              "    cursor: pointer;\n",
              "    display: none;\n",
              "    fill: var(--fill-color);\n",
              "    height: 32px;\n",
              "    padding: 0;\n",
              "    width: 32px;\n",
              "  }\n",
              "\n",
              "  .colab-df-quickchart:hover {\n",
              "    background-color: var(--hover-bg-color);\n",
              "    box-shadow: 0 1px 2px rgba(60, 64, 67, 0.3), 0 1px 3px 1px rgba(60, 64, 67, 0.15);\n",
              "    fill: var(--button-hover-fill-color);\n",
              "  }\n",
              "\n",
              "  .colab-df-quickchart-complete:disabled,\n",
              "  .colab-df-quickchart-complete:disabled:hover {\n",
              "    background-color: var(--disabled-bg-color);\n",
              "    fill: var(--disabled-fill-color);\n",
              "    box-shadow: none;\n",
              "  }\n",
              "\n",
              "  .colab-df-spinner {\n",
              "    border: 2px solid var(--fill-color);\n",
              "    border-color: transparent;\n",
              "    border-bottom-color: var(--fill-color);\n",
              "    animation:\n",
              "      spin 1s steps(1) infinite;\n",
              "  }\n",
              "\n",
              "  @keyframes spin {\n",
              "    0% {\n",
              "      border-color: transparent;\n",
              "      border-bottom-color: var(--fill-color);\n",
              "      border-left-color: var(--fill-color);\n",
              "    }\n",
              "    20% {\n",
              "      border-color: transparent;\n",
              "      border-left-color: var(--fill-color);\n",
              "      border-top-color: var(--fill-color);\n",
              "    }\n",
              "    30% {\n",
              "      border-color: transparent;\n",
              "      border-left-color: var(--fill-color);\n",
              "      border-top-color: var(--fill-color);\n",
              "      border-right-color: var(--fill-color);\n",
              "    }\n",
              "    40% {\n",
              "      border-color: transparent;\n",
              "      border-right-color: var(--fill-color);\n",
              "      border-top-color: var(--fill-color);\n",
              "    }\n",
              "    60% {\n",
              "      border-color: transparent;\n",
              "      border-right-color: var(--fill-color);\n",
              "    }\n",
              "    80% {\n",
              "      border-color: transparent;\n",
              "      border-right-color: var(--fill-color);\n",
              "      border-bottom-color: var(--fill-color);\n",
              "    }\n",
              "    90% {\n",
              "      border-color: transparent;\n",
              "      border-bottom-color: var(--fill-color);\n",
              "    }\n",
              "  }\n",
              "</style>\n",
              "\n",
              "  <script>\n",
              "    async function quickchart(key) {\n",
              "      const quickchartButtonEl =\n",
              "        document.querySelector('#' + key + ' button');\n",
              "      quickchartButtonEl.disabled = true;  // To prevent multiple clicks.\n",
              "      quickchartButtonEl.classList.add('colab-df-spinner');\n",
              "      try {\n",
              "        const charts = await google.colab.kernel.invokeFunction(\n",
              "            'suggestCharts', [key], {});\n",
              "      } catch (error) {\n",
              "        console.error('Error during call to suggestCharts:', error);\n",
              "      }\n",
              "      quickchartButtonEl.classList.remove('colab-df-spinner');\n",
              "      quickchartButtonEl.classList.add('colab-df-quickchart-complete');\n",
              "    }\n",
              "    (() => {\n",
              "      let quickchartButtonEl =\n",
              "        document.querySelector('#df-d1a9c36f-379c-4ac7-bf48-88089d791f70 button');\n",
              "      quickchartButtonEl.style.display =\n",
              "        google.colab.kernel.accessAllowed ? 'block' : 'none';\n",
              "    })();\n",
              "  </script>\n",
              "</div>\n",
              "\n",
              "    </div>\n",
              "  </div>\n"
            ],
            "application/vnd.google.colaboratory.intrinsic+json": {
              "type": "dataframe",
              "summary": "{\n  \"name\": \"fb\",\n  \"rows\": 8,\n  \"fields\": [\n    {\n      \"column\": \"Unnamed: 0\",\n      \"properties\": {\n        \"dtype\": \"number\",\n        \"std\": 360.1860157939537,\n        \"min\": 0.0,\n        \"max\": 1000.0,\n        \"num_unique_values\": 7,\n        \"samples\": [\n          1000.0,\n          499.5,\n          749.25\n        ],\n        \"semantic_type\": \"\",\n        \"description\": \"\"\n      }\n    }\n  ]\n}"
            }
          },
          "metadata": {},
          "execution_count": 23
        }
      ]
    },
    {
      "cell_type": "markdown",
      "source": [
        "Visualiastion"
      ],
      "metadata": {
        "id": "ESBbAXZw8wnS"
      }
    },
    {
      "source": [
        "from matplotlib import pyplot as plt\n",
        "import seaborn as sns\n",
        "fb.groupby('Label').size().plot(kind='barh', color=sns.palettes.mpl_palette('Dark2'))\n",
        "plt.gca().spines[['top', 'right',]].set_visible(False)"
      ],
      "cell_type": "code",
      "execution_count": null,
      "outputs": [
        {
          "output_type": "display_data",
          "data": {
            "text/plain": [
              "<Figure size 640x480 with 1 Axes>"
            ],
            "image/png": "[encoded data removed]"
          },
          "metadata": {}
        }
      ],
      "metadata": {
        "colab": {
          "base_uri": "https://localhost:8080/",
          "height": 430
        },
        "id": "q2j0Lm978RCR",
        "outputId": "01fbaa82-66ed-4206-b728-554bdc5ad029"
      }
    },
    {
      "cell_type": "code",
      "source": [
        "plt.figure(figsize=(10, 6))\n",
        "fb['comment_length'] = fb['FBPost'].apply(len)\n",
        "sns.distplot(fb['comment_length'], bins=50, kde=False)\n",
        "plt.xlabel('Comment Length')\n",
        "plt.ylabel('Frequency')\n",
        "plt.title('Distribution of Comment Lengths')\n",
        "plt.show()\n"
      ],
      "metadata": {
        "colab": {
          "base_uri": "https://localhost:8080/",
          "height": 751
        },
        "id": "0yi7xH3n8yxk",
        "outputId": "c70274ef-0085-4a25-9a57-a2e52234af5f"
      },
      "execution_count": null,
      "outputs": [
        {
          "output_type": "stream",
          "name": "stderr",
          "text": [
            "<ipython-input-26-ffba65df7e2e>:3: UserWarning: \n",
            "\n",
            "`distplot` is a deprecated function and will be removed in seaborn v0.14.0.\n",
            "\n",
            "Please adapt your code to use either `displot` (a figure-level function with\n",
            "similar flexibility) or `histplot` (an axes-level function for histograms).\n",
            "\n",
            "For a guide to updating your code to use the new functions, please see\n",
            "https://gist.github.com/mwaskom/de44147ed2974457ad6372750bbe5751\n",
            "\n",
            "  sns.distplot(fb['comment_length'], bins=50, kde=False)\n"
          ]
        },
        {
          "output_type": "display_data",
          "data": {
            "text/plain": [
              "<Figure size 1000x600 with 1 Axes>"
            ],
            "image/png": "[encoded data removed]"
          },
          "metadata": {}
        }
      ]
    },
    {
      "cell_type": "markdown",
      "source": [
        "Data Preperation\n"
      ],
      "metadata": {
        "id": "3P278L439PnL"
      }
    },
    {
      "cell_type": "code",
      "source": [
        "#lowercasing the text and removing symbols though RegEx\n",
        "import re\n",
        "fb['FBPpost'] = fb['FBPost'].apply(lambda x: x.lower())\n",
        "fb['FBPost'] = fb['FBPost'].apply((lambda x: re.sub('[^a-zA-z0-9\\s]','',x)))"
      ],
      "metadata": {
        "id": "-CQPIUwC84eN"
      },
      "execution_count": null,
      "outputs": []
    },
    {
      "cell_type": "code",
      "source": [
        "fb = fb[fb.Label != \"O\"]"
      ],
      "metadata": {
        "id": "mzAkayBy9RXq"
      },
      "execution_count": null,
      "outputs": []
    },
    {
      "cell_type": "code",
      "source": [
        "max_fatures = 2000\n",
        "tokenizer = Tokenizer(num_words=max_fatures, split=' ')\n",
        "tokenizer.fit_on_texts(fb['FBPost'].values)\n",
        "X = tokenizer.texts_to_sequences(fb['FBPost'].values)\n",
        "X = pad_sequences(X)"
      ],
      "metadata": {
        "id": "pawgMK8P9aPA"
      },
      "execution_count": null,
      "outputs": []
    },
    {
      "cell_type": "code",
      "source": [
        "fb.Label.value_counts()"
      ],
      "metadata": {
        "colab": {
          "base_uri": "https://localhost:8080/"
        },
        "id": "_s1Zgx9d9iW6",
        "outputId": "84552c56-403b-48ef-a773-550842af6612"
      },
      "execution_count": null,
      "outputs": [
        {
          "output_type": "execute_result",
          "data": {
            "text/plain": [
              "Label\n",
              "P    641\n",
              "N     79\n",
              "Name: count, dtype: int64"
            ]
          },
          "metadata": {},
          "execution_count": 37
        }
      ]
    },
    {
      "cell_type": "code",
      "source": [
        "Y = pd.get_dummies(fb['Label']).values\n",
        "X_train, X_test, Y_train, Y_test = train_test_split(X,Y, test_size = 0.33, random_state = 42)\n",
        "print(X_train.shape,Y_train.shape)\n",
        "print(X_test.shape,Y_test.shape)"
      ],
      "metadata": {
        "colab": {
          "base_uri": "https://localhost:8080/"
        },
        "id": "NkbjCPpP91GL",
        "outputId": "6fdafc30-8589-4164-babf-a9e2fbb71b09"
      },
      "execution_count": null,
      "outputs": [
        {
          "output_type": "stream",
          "name": "stdout",
          "text": [
            "(482, 203) (482, 2)\n",
            "(238, 203) (238, 2)\n"
          ]
        }
      ]
    },
    {
      "cell_type": "markdown",
      "source": [
        "Model"
      ],
      "metadata": {
        "id": "blxGzOln96p0"
      }
    },
    {
      "cell_type": "code",
      "source": [
        "embed_dim = 200\n",
        "lstm_out = 200\n",
        "\n",
        "model = Sequential()\n",
        "model.add(Embedding(max_fatures, embed_dim,input_length = X.shape[1]))\n",
        "model.add(SpatialDropout1D(0.4))\n",
        "model.add(LSTM(lstm_out, dropout=0.2, recurrent_dropout=0.2))\n",
        "model.add(Dense(2,activation='softmax'))\n",
        "model.compile(loss = 'categorical_crossentropy', optimizer='adam',metrics = ['accuracy'])\n",
        "print(model.summary())"
      ],
      "metadata": {
        "colab": {
          "base_uri": "https://localhost:8080/"
        },
        "id": "YGUmn-Yi93Ye",
        "outputId": "5c6fd969-309e-46e0-ea52-7e008f958b3c"
      },
      "execution_count": null,
      "outputs": [
        {
          "output_type": "stream",
          "name": "stdout",
          "text": [
            "Model: \"sequential\"\n",
            "_________________________________________________________________\n",
            " Layer (type)                Output Shape              Param #   \n",
            "=================================================================\n",
            " embedding (Embedding)       (None, 203, 200)          400000    \n",
            "                                                                 \n",
            " spatial_dropout1d (Spatial  (None, 203, 200)          0         \n",
            " Dropout1D)                                                      \n",
            "                                                                 \n",
            " lstm (LSTM)                 (None, 200)               320800    \n",
            "                                                                 \n",
            " dense (Dense)               (None, 2)                 402       \n",
            "                                                                 \n",
            "=================================================================\n",
            "Total params: 721202 (2.75 MB)\n",
            "Trainable params: 721202 (2.75 MB)\n",
            "Non-trainable params: 0 (0.00 Byte)\n",
            "_________________________________________________________________\n",
            "None\n"
          ]
        }
      ]
    },
    {
      "cell_type": "code",
      "source": [
        "batch_size = 32\n",
        "hist = model.fit(X_train, Y_train, epochs = 7, batch_size=batch_size, verbose = 2)"
      ],
      "metadata": {
        "colab": {
          "base_uri": "https://localhost:8080/"
        },
        "id": "oA0JxtEu97d1",
        "outputId": "bcd74767-8594-4779-d49d-fbba1f6bb101"
      },
      "execution_count": null,
      "outputs": [
        {
          "output_type": "stream",
          "name": "stdout",
          "text": [
            "Epoch 1/7\n",
            "16/16 - 24s - loss: 0.4360 - accuracy: 0.8610 - 24s/epoch - 1s/step\n",
            "Epoch 2/7\n",
            "16/16 - 16s - loss: 0.3069 - accuracy: 0.8963 - 16s/epoch - 1s/step\n",
            "Epoch 3/7\n",
            "16/16 - 16s - loss: 0.2691 - accuracy: 0.8983 - 16s/epoch - 984ms/step\n",
            "Epoch 4/7\n",
            "16/16 - 17s - loss: 0.2137 - accuracy: 0.9087 - 17s/epoch - 1s/step\n",
            "Epoch 5/7\n",
            "16/16 - 16s - loss: 0.1343 - accuracy: 0.9585 - 16s/epoch - 974ms/step\n",
            "Epoch 6/7\n",
            "16/16 - 16s - loss: 0.0697 - accuracy: 0.9772 - 16s/epoch - 989ms/step\n",
            "Epoch 7/7\n",
            "16/16 - 16s - loss: 0.0254 - accuracy: 0.9979 - 16s/epoch - 1s/step\n"
          ]
        }
      ]
    },
    {
      "cell_type": "code",
      "source": [
        "#Plotting a histogram over the 7 epocs and plotting the accuracy and loss\n",
        "history = pd.DataFrame(hist.history)\n",
        "plt.figure(figsize=(7,7));\n",
        "plt.plot(history[\"loss\"]);\n",
        "plt.plot(history[\"accuracy\"]);\n",
        "plt.title(\"Loss and accuracy of model\");\n",
        "plt.show();"
      ],
      "metadata": {
        "colab": {
          "base_uri": "https://localhost:8080/",
          "height": 622
        },
        "id": "uWXzASUm9_VS",
        "outputId": "e0e897a6-1cf6-401e-a582-056e15b0ca42"
      },
      "execution_count": null,
      "outputs": [
        {
          "output_type": "display_data",
          "data": {
            "text/plain": [
              "<Figure size 700x700 with 1 Axes>"
            ],
            "image/png": "[encoded data removed]"
          },
          "metadata": {}
        }
      ]
    },
    {
      "cell_type": "code",
      "source": [
        "#Testing the model, and retrieveing score and accuracy:\n",
        "score,acc = model.evaluate(X_test,Y_test)\n",
        "print(\"score: %.2f\" % (score))\n",
        "print(\"accuracy: %.2f\" % (acc))"
      ],
      "metadata": {
        "colab": {
          "base_uri": "https://localhost:8080/"
        },
        "id": "b2qVecIE-l-D",
        "outputId": "09b968bc-4615-4e7a-f5a5-1d7d9d48b93b"
      },
      "execution_count": null,
      "outputs": [
        {
          "output_type": "stream",
          "name": "stdout",
          "text": [
            "8/8 [==============================] - 3s 246ms/step - loss: 0.4196 - accuracy: 0.8782\n",
            "score: 0.42\n",
            "accuracy: 0.88\n"
          ]
        }
      ]
    },
    {
      "cell_type": "code",
      "source": [
        "validation_size = 1500\n",
        "\n",
        "X_validate = X_test[-validation_size:]\n",
        "Y_validate = Y_test[-validation_size:]\n",
        "x_test = X_test[:-validation_size]\n",
        "y_test = Y_test[:-validation_size]"
      ],
      "metadata": {
        "id": "uEOXtENp-2U_"
      },
      "execution_count": null,
      "outputs": []
    },
    {
      "cell_type": "code",
      "source": [
        "pos_cnt, neg_cnt, pos_correct, neg_correct = 0, 0, 0, 0\n",
        "for x in range(len(X_validate)):\n",
        "    result = model.predict(X_validate[x].reshape(1,x_test.shape[1]),verbose = 2)[0]\n",
        "    if np.argmax(result) == np.argmax(Y_validate[x]):\n",
        "        if np.argmax(Y_validate[x]) == 0:\n",
        "            neg_correct += 1\n",
        "        else:\n",
        "            pos_correct += 1\n",
        "    if np.argmax(Y_validate[x]) == 0:\n",
        "        neg_cnt += 1\n",
        "    else:\n",
        "        pos_cnt += 1\n",
        "print(\"positive_acc\", pos_correct/pos_cnt*100, \"%\")\n",
        "print(\"negative_acc\", neg_correct/neg_cnt*100, \"%\")"
      ],
      "metadata": {
        "colab": {
          "base_uri": "https://localhost:8080/"
        },
        "id": "Bsf6dONv-5ZC",
        "outputId": "08e2da35-69c0-4267-c35b-d4347f244a4e"
      },
      "execution_count": null,
      "outputs": [
        {
          "output_type": "stream",
          "name": "stdout",
          "text": [
            "1/1 - 1s - 752ms/epoch - 752ms/step\n",
            "1/1 - 0s - 243ms/epoch - 243ms/step\n",
            "1/1 - 0s - 246ms/epoch - 246ms/step\n",
            "1/1 - 0s - 194ms/epoch - 194ms/step\n",
            "1/1 - 0s - 174ms/epoch - 174ms/step\n",
            "1/1 - 0s - 152ms/epoch - 152ms/step\n",
            "1/1 - 0s - 235ms/epoch - 235ms/step\n",
            "1/1 - 0s - 318ms/epoch - 318ms/step\n",
            "1/1 - 0s - 361ms/epoch - 361ms/step\n",
            "1/1 - 0s - 122ms/epoch - 122ms/step\n",
            "1/1 - 0s - 120ms/epoch - 120ms/step\n",
            "1/1 - 0s - 126ms/epoch - 126ms/step\n",
            "1/1 - 0s - 126ms/epoch - 126ms/step\n",
            "1/1 - 0s - 139ms/epoch - 139ms/step\n",
            "1/1 - 0s - 120ms/epoch - 120ms/step\n",
            "1/1 - 0s - 125ms/epoch - 125ms/step\n",
            "1/1 - 0s - 120ms/epoch - 120ms/step\n",
            "1/1 - 0s - 125ms/epoch - 125ms/step\n",
            "1/1 - 0s - 123ms/epoch - 123ms/step\n",
            "1/1 - 0s - 135ms/epoch - 135ms/step\n",
            "1/1 - 0s - 124ms/epoch - 124ms/step\n",
            "1/1 - 0s - 123ms/epoch - 123ms/step\n",
            "1/1 - 0s - 129ms/epoch - 129ms/step\n",
            "1/1 - 0s - 123ms/epoch - 123ms/step\n",
            "1/1 - 0s - 126ms/epoch - 126ms/step\n",
            "1/1 - 0s - 136ms/epoch - 136ms/step\n",
            "1/1 - 0s - 122ms/epoch - 122ms/step\n",
            "1/1 - 0s - 125ms/epoch - 125ms/step\n",
            "1/1 - 0s - 122ms/epoch - 122ms/step\n",
            "1/1 - 0s - 142ms/epoch - 142ms/step\n",
            "1/1 - 0s - 163ms/epoch - 163ms/step\n",
            "1/1 - 0s - 144ms/epoch - 144ms/step\n",
            "1/1 - 0s - 138ms/epoch - 138ms/step\n",
            "1/1 - 0s - 144ms/epoch - 144ms/step\n",
            "1/1 - 0s - 147ms/epoch - 147ms/step\n",
            "1/1 - 0s - 154ms/epoch - 154ms/step\n",
            "1/1 - 0s - 150ms/epoch - 150ms/step\n",
            "1/1 - 0s - 138ms/epoch - 138ms/step\n",
            "1/1 - 0s - 143ms/epoch - 143ms/step\n",
            "1/1 - 0s - 123ms/epoch - 123ms/step\n",
            "1/1 - 0s - 130ms/epoch - 130ms/step\n",
            "1/1 - 0s - 127ms/epoch - 127ms/step\n",
            "1/1 - 0s - 127ms/epoch - 127ms/step\n",
            "1/1 - 0s - 120ms/epoch - 120ms/step\n",
            "1/1 - 0s - 138ms/epoch - 138ms/step\n",
            "1/1 - 0s - 203ms/epoch - 203ms/step\n",
            "1/1 - 0s - 192ms/epoch - 192ms/step\n",
            "1/1 - 0s - 217ms/epoch - 217ms/step\n",
            "1/1 - 0s - 240ms/epoch - 240ms/step\n",
            "1/1 - 0s - 248ms/epoch - 248ms/step\n",
            "1/1 - 0s - 239ms/epoch - 239ms/step\n",
            "1/1 - 0s - 202ms/epoch - 202ms/step\n",
            "1/1 - 0s - 132ms/epoch - 132ms/step\n",
            "1/1 - 0s - 123ms/epoch - 123ms/step\n",
            "1/1 - 0s - 124ms/epoch - 124ms/step\n",
            "1/1 - 0s - 127ms/epoch - 127ms/step\n",
            "1/1 - 0s - 127ms/epoch - 127ms/step\n",
            "1/1 - 0s - 119ms/epoch - 119ms/step\n",
            "1/1 - 0s - 132ms/epoch - 132ms/step\n",
            "1/1 - 0s - 124ms/epoch - 124ms/step\n",
            "1/1 - 0s - 124ms/epoch - 124ms/step\n",
            "1/1 - 0s - 123ms/epoch - 123ms/step\n",
            "1/1 - 0s - 121ms/epoch - 121ms/step\n",
            "1/1 - 0s - 122ms/epoch - 122ms/step\n",
            "1/1 - 0s - 126ms/epoch - 126ms/step\n",
            "1/1 - 0s - 130ms/epoch - 130ms/step\n",
            "1/1 - 0s - 122ms/epoch - 122ms/step\n",
            "1/1 - 0s - 147ms/epoch - 147ms/step\n",
            "1/1 - 0s - 153ms/epoch - 153ms/step\n",
            "1/1 - 0s - 160ms/epoch - 160ms/step\n",
            "1/1 - 0s - 145ms/epoch - 145ms/step\n",
            "1/1 - 0s - 139ms/epoch - 139ms/step\n",
            "1/1 - 0s - 147ms/epoch - 147ms/step\n",
            "1/1 - 0s - 143ms/epoch - 143ms/step\n",
            "1/1 - 0s - 164ms/epoch - 164ms/step\n",
            "1/1 - 0s - 126ms/epoch - 126ms/step\n",
            "1/1 - 0s - 124ms/epoch - 124ms/step\n",
            "1/1 - 0s - 124ms/epoch - 124ms/step\n",
            "1/1 - 0s - 335ms/epoch - 335ms/step\n",
            "1/1 - 0s - 408ms/epoch - 408ms/step\n",
            "1/1 - 0s - 147ms/epoch - 147ms/step\n",
            "1/1 - 0s - 223ms/epoch - 223ms/step\n",
            "1/1 - 0s - 364ms/epoch - 364ms/step\n",
            "1/1 - 0s - 143ms/epoch - 143ms/step\n",
            "1/1 - 0s - 130ms/epoch - 130ms/step\n",
            "1/1 - 0s - 128ms/epoch - 128ms/step\n",
            "1/1 - 0s - 130ms/epoch - 130ms/step\n",
            "1/1 - 0s - 125ms/epoch - 125ms/step\n",
            "1/1 - 0s - 126ms/epoch - 126ms/step\n",
            "1/1 - 0s - 125ms/epoch - 125ms/step\n",
            "1/1 - 0s - 122ms/epoch - 122ms/step\n",
            "1/1 - 0s - 140ms/epoch - 140ms/step\n",
            "1/1 - 0s - 123ms/epoch - 123ms/step\n",
            "1/1 - 0s - 123ms/epoch - 123ms/step\n",
            "1/1 - 0s - 125ms/epoch - 125ms/step\n",
            "1/1 - 0s - 181ms/epoch - 181ms/step\n",
            "1/1 - 0s - 222ms/epoch - 222ms/step\n",
            "1/1 - 0s - 221ms/epoch - 221ms/step\n",
            "1/1 - 0s - 213ms/epoch - 213ms/step\n",
            "1/1 - 0s - 187ms/epoch - 187ms/step\n",
            "1/1 - 0s - 201ms/epoch - 201ms/step\n",
            "1/1 - 0s - 238ms/epoch - 238ms/step\n",
            "1/1 - 0s - 147ms/epoch - 147ms/step\n",
            "1/1 - 0s - 157ms/epoch - 157ms/step\n",
            "1/1 - 0s - 153ms/epoch - 153ms/step\n",
            "1/1 - 0s - 136ms/epoch - 136ms/step\n",
            "1/1 - 0s - 114ms/epoch - 114ms/step\n",
            "1/1 - 0s - 121ms/epoch - 121ms/step\n",
            "1/1 - 0s - 130ms/epoch - 130ms/step\n",
            "1/1 - 0s - 116ms/epoch - 116ms/step\n",
            "1/1 - 0s - 111ms/epoch - 111ms/step\n",
            "1/1 - 0s - 127ms/epoch - 127ms/step\n",
            "1/1 - 0s - 129ms/epoch - 129ms/step\n",
            "1/1 - 0s - 128ms/epoch - 128ms/step\n",
            "1/1 - 0s - 131ms/epoch - 131ms/step\n",
            "1/1 - 0s - 115ms/epoch - 115ms/step\n",
            "1/1 - 0s - 121ms/epoch - 121ms/step\n",
            "1/1 - 0s - 102ms/epoch - 102ms/step\n",
            "1/1 - 0s - 122ms/epoch - 122ms/step\n",
            "1/1 - 0s - 127ms/epoch - 127ms/step\n",
            "1/1 - 0s - 137ms/epoch - 137ms/step\n",
            "1/1 - 0s - 127ms/epoch - 127ms/step\n",
            "1/1 - 0s - 125ms/epoch - 125ms/step\n",
            "1/1 - 0s - 146ms/epoch - 146ms/step\n",
            "1/1 - 0s - 145ms/epoch - 145ms/step\n",
            "1/1 - 0s - 159ms/epoch - 159ms/step\n",
            "1/1 - 0s - 140ms/epoch - 140ms/step\n",
            "1/1 - 0s - 136ms/epoch - 136ms/step\n",
            "1/1 - 0s - 125ms/epoch - 125ms/step\n",
            "1/1 - 0s - 123ms/epoch - 123ms/step\n",
            "1/1 - 0s - 128ms/epoch - 128ms/step\n",
            "1/1 - 0s - 113ms/epoch - 113ms/step\n",
            "1/1 - 0s - 129ms/epoch - 129ms/step\n",
            "1/1 - 0s - 110ms/epoch - 110ms/step\n",
            "1/1 - 0s - 116ms/epoch - 116ms/step\n",
            "1/1 - 0s - 120ms/epoch - 120ms/step\n",
            "1/1 - 0s - 132ms/epoch - 132ms/step\n",
            "1/1 - 0s - 122ms/epoch - 122ms/step\n",
            "1/1 - 0s - 111ms/epoch - 111ms/step\n",
            "1/1 - 0s - 120ms/epoch - 120ms/step\n",
            "1/1 - 0s - 117ms/epoch - 117ms/step\n",
            "1/1 - 0s - 118ms/epoch - 118ms/step\n",
            "1/1 - 0s - 128ms/epoch - 128ms/step\n",
            "1/1 - 0s - 111ms/epoch - 111ms/step\n",
            "1/1 - 0s - 110ms/epoch - 110ms/step\n",
            "1/1 - 0s - 111ms/epoch - 111ms/step\n",
            "1/1 - 0s - 117ms/epoch - 117ms/step\n",
            "1/1 - 0s - 128ms/epoch - 128ms/step\n",
            "1/1 - 0s - 132ms/epoch - 132ms/step\n",
            "1/1 - 0s - 122ms/epoch - 122ms/step\n",
            "1/1 - 0s - 118ms/epoch - 118ms/step\n",
            "1/1 - 0s - 121ms/epoch - 121ms/step\n",
            "1/1 - 0s - 122ms/epoch - 122ms/step\n",
            "1/1 - 0s - 121ms/epoch - 121ms/step\n",
            "1/1 - 0s - 134ms/epoch - 134ms/step\n",
            "1/1 - 0s - 126ms/epoch - 126ms/step\n",
            "1/1 - 0s - 134ms/epoch - 134ms/step\n",
            "1/1 - 0s - 216ms/epoch - 216ms/step\n",
            "1/1 - 0s - 197ms/epoch - 197ms/step\n",
            "1/1 - 0s - 175ms/epoch - 175ms/step\n",
            "1/1 - 0s - 186ms/epoch - 186ms/step\n",
            "1/1 - 0s - 208ms/epoch - 208ms/step\n",
            "1/1 - 0s - 222ms/epoch - 222ms/step\n",
            "1/1 - 0s - 197ms/epoch - 197ms/step\n",
            "1/1 - 0s - 191ms/epoch - 191ms/step\n",
            "1/1 - 0s - 117ms/epoch - 117ms/step\n",
            "1/1 - 0s - 119ms/epoch - 119ms/step\n",
            "1/1 - 0s - 126ms/epoch - 126ms/step\n",
            "1/1 - 0s - 135ms/epoch - 135ms/step\n",
            "1/1 - 0s - 150ms/epoch - 150ms/step\n",
            "1/1 - 0s - 252ms/epoch - 252ms/step\n",
            "1/1 - 0s - 247ms/epoch - 247ms/step\n",
            "1/1 - 0s - 253ms/epoch - 253ms/step\n",
            "1/1 - 0s - 234ms/epoch - 234ms/step\n",
            "1/1 - 0s - 202ms/epoch - 202ms/step\n",
            "1/1 - 0s - 234ms/epoch - 234ms/step\n",
            "1/1 - 0s - 218ms/epoch - 218ms/step\n",
            "1/1 - 0s - 192ms/epoch - 192ms/step\n",
            "1/1 - 0s - 183ms/epoch - 183ms/step\n",
            "1/1 - 0s - 230ms/epoch - 230ms/step\n",
            "1/1 - 0s - 248ms/epoch - 248ms/step\n",
            "1/1 - 0s - 143ms/epoch - 143ms/step\n",
            "1/1 - 0s - 132ms/epoch - 132ms/step\n",
            "1/1 - 0s - 119ms/epoch - 119ms/step\n",
            "1/1 - 0s - 118ms/epoch - 118ms/step\n",
            "1/1 - 0s - 103ms/epoch - 103ms/step\n",
            "1/1 - 0s - 141ms/epoch - 141ms/step\n",
            "1/1 - 0s - 122ms/epoch - 122ms/step\n",
            "1/1 - 0s - 113ms/epoch - 113ms/step\n",
            "1/1 - 0s - 123ms/epoch - 123ms/step\n",
            "1/1 - 0s - 145ms/epoch - 145ms/step\n",
            "1/1 - 0s - 109ms/epoch - 109ms/step\n",
            "1/1 - 0s - 135ms/epoch - 135ms/step\n",
            "1/1 - 0s - 123ms/epoch - 123ms/step\n",
            "1/1 - 0s - 122ms/epoch - 122ms/step\n",
            "1/1 - 0s - 131ms/epoch - 131ms/step\n",
            "1/1 - 0s - 122ms/epoch - 122ms/step\n",
            "1/1 - 0s - 125ms/epoch - 125ms/step\n",
            "1/1 - 0s - 120ms/epoch - 120ms/step\n",
            "1/1 - 0s - 125ms/epoch - 125ms/step\n",
            "1/1 - 0s - 122ms/epoch - 122ms/step\n",
            "1/1 - 0s - 126ms/epoch - 126ms/step\n",
            "1/1 - 0s - 124ms/epoch - 124ms/step\n",
            "1/1 - 0s - 114ms/epoch - 114ms/step\n",
            "1/1 - 0s - 126ms/epoch - 126ms/step\n",
            "1/1 - 0s - 130ms/epoch - 130ms/step\n",
            "1/1 - 0s - 122ms/epoch - 122ms/step\n",
            "1/1 - 0s - 113ms/epoch - 113ms/step\n",
            "1/1 - 0s - 122ms/epoch - 122ms/step\n",
            "1/1 - 0s - 129ms/epoch - 129ms/step\n",
            "1/1 - 0s - 129ms/epoch - 129ms/step\n",
            "1/1 - 0s - 205ms/epoch - 205ms/step\n",
            "1/1 - 0s - 186ms/epoch - 186ms/step\n",
            "1/1 - 0s - 242ms/epoch - 242ms/step\n",
            "1/1 - 0s - 220ms/epoch - 220ms/step\n",
            "1/1 - 0s - 230ms/epoch - 230ms/step\n",
            "1/1 - 0s - 208ms/epoch - 208ms/step\n",
            "1/1 - 0s - 218ms/epoch - 218ms/step\n",
            "1/1 - 0s - 198ms/epoch - 198ms/step\n",
            "1/1 - 0s - 128ms/epoch - 128ms/step\n",
            "1/1 - 0s - 125ms/epoch - 125ms/step\n",
            "1/1 - 0s - 124ms/epoch - 124ms/step\n",
            "1/1 - 0s - 128ms/epoch - 128ms/step\n",
            "1/1 - 0s - 123ms/epoch - 123ms/step\n",
            "1/1 - 0s - 116ms/epoch - 116ms/step\n",
            "1/1 - 0s - 118ms/epoch - 118ms/step\n",
            "1/1 - 0s - 116ms/epoch - 116ms/step\n",
            "1/1 - 0s - 124ms/epoch - 124ms/step\n",
            "1/1 - 0s - 129ms/epoch - 129ms/step\n",
            "1/1 - 0s - 113ms/epoch - 113ms/step\n",
            "1/1 - 0s - 120ms/epoch - 120ms/step\n",
            "1/1 - 0s - 127ms/epoch - 127ms/step\n",
            "1/1 - 0s - 132ms/epoch - 132ms/step\n",
            "1/1 - 0s - 136ms/epoch - 136ms/step\n",
            "1/1 - 0s - 116ms/epoch - 116ms/step\n",
            "1/1 - 0s - 149ms/epoch - 149ms/step\n",
            "1/1 - 0s - 126ms/epoch - 126ms/step\n",
            "1/1 - 0s - 126ms/epoch - 126ms/step\n",
            "positive_acc 97.60765550239235 %\n",
            "negative_acc 17.24137931034483 %\n"
          ]
        }
      ]
    },
    {
      "cell_type": "code",
      "source": [
        "#now testing  on a random sample from the Facebook comments on Kindle's page:\n",
        "cmnt = ['your customer service is the absolute worst i now have a mess of books on my kindle']\n",
        "#vectorizing the comment\n",
        "cmnt = tokenizer.texts_to_sequences(cmnt)\n",
        "cmnt = pad_sequences(cmnt, maxlen=203, dtype='int32', value=0)\n",
        "print(cmnt)\n",
        "sentiment = model.predict(cmnt,batch_size=2,verbose = 2)[0]\n",
        "if(np.argmax(sentiment) == 0):\n",
        "    print(\"negative\")\n",
        "elif (np.argmax(sentiment) == 1):\n",
        "    print(\"positive\")"
      ],
      "metadata": {
        "colab": {
          "base_uri": "https://localhost:8080/"
        },
        "id": "3yV0clEK-9rE",
        "outputId": "8c5ae293-e234-4d9a-afee-6942d77fc5ac"
      },
      "execution_count": null,
      "outputs": [
        {
          "output_type": "stream",
          "name": "stdout",
          "text": [
            "[[  0   0   0   0   0   0   0   0   0   0   0   0   0   0   0   0   0   0\n",
            "    0   0   0   0   0   0   0   0   0   0   0   0   0   0   0   0   0   0\n",
            "    0   0   0   0   0   0   0   0   0   0   0   0   0   0   0   0   0   0\n",
            "    0   0   0   0   0   0   0   0   0   0   0   0   0   0   0   0   0   0\n",
            "    0   0   0   0   0   0   0   0   0   0   0   0   0   0   0   0   0   0\n",
            "    0   0   0   0   0   0   0   0   0   0   0   0   0   0   0   0   0   0\n",
            "    0   0   0   0   0   0   0   0   0   0   0   0   0   0   0   0   0   0\n",
            "    0   0   0   0   0   0   0   0   0   0   0   0   0   0   0   0   0   0\n",
            "    0   0   0   0   0   0   0   0   0   0   0   0   0   0   0   0   0   0\n",
            "    0   0   0   0   0   0   0   0   0   0   0   0   0   0   0   0   0   0\n",
            "    0   0   0   0   0   0   0   0  51 510 674  12   2 895   1  69  11   6\n",
            "   13  16  20   3   4]]\n",
            "1/1 - 0s - 259ms/epoch - 259ms/step\n",
            "positive\n"
          ]
        }
      ]
    },
    {
      "cell_type": "code",
      "source": [],
      "metadata": {
        "id": "0wrT178z_MA8"
      },
      "execution_count": null,
      "outputs": []
    }
  ]
}